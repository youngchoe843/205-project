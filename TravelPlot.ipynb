{
 "cells": [
  {
   "cell_type": "code",
   "execution_count": 4,
   "metadata": {
    "collapsed": false
   },
   "outputs": [
    {
     "name": "stdout",
     "output_type": "stream",
     "text": [
      "         date  travel.state.gov  ustraveldocs  ds 160  ds-160  ds160\n",
      "0  2004-01-01              0.00           0.0     0.0     0.0    0.0\n",
      "1  2004-01-02              8.28           0.0     0.0     0.0    0.0\n",
      "2  2004-01-03              9.89           0.0     0.0     0.0    0.0\n",
      "3  2004-01-04              0.00           0.0     0.0     0.0    0.0\n",
      "4  2004-01-05              0.00           0.0     0.0     0.0    0.0\n"
     ]
    }
   ],
   "source": [
    "# import libraries, initialize\n",
    "#from pandas.io.data import DataReader\n",
    "\n",
    "import pandas_datareader.data as web\n",
    "import pandas_datareader as pdr\n",
    "import pandas as pd\n",
    "from datetime import datetime\n",
    "from datetime import date\n",
    "import numpy as np\n",
    "from plotly.offline import *\n",
    "from plotly.graph_objs import *\n",
    "\n",
    "travelFilePath = \"/Users/erikaananda/Documents/MIDS/W205/admin/CourseProject/traveltrends.txt\"\n",
    "travelData = pd.read_csv(travelFilePath, sep=',')\n",
    "print(travelData[:5])"
   ]
  },
  {
   "cell_type": "code",
   "execution_count": 6,
   "metadata": {
    "collapsed": false
   },
   "outputs": [],
   "source": [
    "trace1 = Scatter(\n",
    "    x=travelData[\"date\"],\n",
    "    y=travelData[\"travel.state.gov\"],\n",
    "\tline=Line(\n",
    "        color='rgb(0,116,217)'\n",
    "    ),\n",
    "    name='travel.state.gov'\n",
    ")\n",
    "trace2 = Scatter(\n",
    "    x=travelData[\"date\"],\n",
    "    y=travelData[\"ustraveldocs\"],\n",
    "\tline=Line(\n",
    "        color='rgb(255,153,51)'\n",
    "    ),\n",
    "    name='ustraveldocs'\n",
    ")\n",
    "trace3 = Scatter(\n",
    "    x=travelData[\"date\"],\n",
    "    y=travelData[\"ds 160\"],\n",
    "\tline=Line(\n",
    "        color='rgb(153,255,153)'\n",
    "    ),\n",
    "    name='ds 160'\n",
    ")\n",
    "\n",
    "data = [trace1, trace2, trace3]\n",
    "layout = Layout(\n",
    "    title='Travel Data',\n",
    "    yaxis=dict(\n",
    "        title=\"Not Sure what we're measuring\",\n",
    "            color='rgb(0,116,217)'\n",
    "\t\t#range = [-1.0, 1.0]\n",
    "    )\n",
    ")\n",
    "\n",
    "fig = Figure(data=data, layout=layout)\n",
    "#plot_url = py.plot(fig)\n",
    "plot_url = plot(fig)"
   ]
  },
  {
   "cell_type": "code",
   "execution_count": null,
   "metadata": {
    "collapsed": true
   },
   "outputs": [],
   "source": []
  }
 ],
 "metadata": {
  "kernelspec": {
   "display_name": "Python [default]",
   "language": "python",
   "name": "python3"
  },
  "language_info": {
   "codemirror_mode": {
    "name": "ipython",
    "version": 3
   },
   "file_extension": ".py",
   "mimetype": "text/x-python",
   "name": "python",
   "nbconvert_exporter": "python",
   "pygments_lexer": "ipython3",
   "version": "3.5.2"
  }
 },
 "nbformat": 4,
 "nbformat_minor": 1
}
